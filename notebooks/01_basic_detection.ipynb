{
 "cells": [
  {
   "cell_type": "markdown",
   "metadata": {},
   "source": [
    "# YOLO 기본 객체 탐지 실험\n",
    "\n",
    "이 노트북에서는 YOLO 모델을 사용하여 기본적인 객체 탐지를 수행합니다.\n",
    "\n",
    "## 목차\n",
    "1. 환경 설정 및 라이브러리 임포트\n",
    "2. 설정 및 모델 초기화\n",
    "3. 샘플 이미지 다운로드\n",
    "4. 단일 이미지 탐지\n",
    "5. 결과 시각화\n",
    "6. 결과 저장"
   ]
  },
  {
   "cell_type": "markdown",
   "metadata": {},
   "source": [
    "## 1. 환경 설정 및 라이브러리 임포트"
   ]
  },
  {
   "cell_type": "code",
   "execution_count": null,
   "metadata": {},
   "outputs": [],
   "source": [
    "import sys\n",
    "from pathlib import Path\n",
    "\n",
    "# 프로젝트 루트를 파이썬 경로에 추가\n",
    "project_root = Path.cwd().parent\n",
    "sys.path.insert(0, str(project_root))\n",
    "\n",
    "# 라이브러리 임포트\n",
    "import numpy as np\n",
    "import matplotlib.pyplot as plt\n",
    "from PIL import Image\n",
    "import torch\n",
    "\n",
    "# 프로젝트 모듈 임포트\n",
    "from src.config import YOLOConfig, PRESET_CONFIGS\n",
    "from src.data.loader import DataLoader\n",
    "from src.model.detector import YOLODetector\n",
    "from src.output.visualizer import Visualizer\n",
    "from src.output.exporter import ResultExporter\n",
    "\n",
    "print(f\"PyTorch 버전: {torch.__version__}\")\n",
    "print(f\"CUDA 사용 가능: {torch.cuda.is_available()}\")\n",
    "if torch.cuda.is_available():\n",
    "    print(f\"CUDA 디바이스: {torch.cuda.get_device_name(0)}\")"
   ]
  },
  {
   "cell_type": "markdown",
   "metadata": {},
   "source": [
    "## 2. 설정 및 모델 초기화\n",
    "\n",
    "### 사전 정의된 설정 사용\n",
    "- `fast`: YOLOv8n (nano) - 빠른 속도\n",
    "- `balanced`: YOLOv8s (small) - 속도와 정확도 균형\n",
    "- `accurate`: YOLOv8m (medium) - 높은 정확도"
   ]
  },
  {
   "cell_type": "code",
   "execution_count": null,
   "metadata": {},
   "outputs": [],
   "source": [
    "# 설정 선택 (fast, balanced, accurate)\n",
    "config = PRESET_CONFIGS[\"fast\"]\n",
    "print(config)"
   ]
  },
  {
   "cell_type": "code",
   "execution_count": null,
   "metadata": {},
   "outputs": [],
   "source": [
    "# 또는 커스텀 설정 사용\n",
    "# config = YOLOConfig(\n",
    "#     model_name=\"yolov8n\",\n",
    "#     conf_threshold=0.25,\n",
    "#     iou_threshold=0.45,\n",
    "# )"
   ]
  },
  {
   "cell_type": "code",
   "execution_count": null,
   "metadata": {},
   "outputs": [],
   "source": [
    "# YOLO 모델 초기화\n",
    "detector = YOLODetector(config)\n",
    "\n",
    "# 모델 정보 확인\n",
    "model_info = detector.get_model_info()\n",
    "print(f\"\\n모델 정보:\")\n",
    "print(f\"  - 모델: {model_info['model_name']}\")\n",
    "print(f\"  - 디바이스: {model_info['device']}\")\n",
    "print(f\"  - 클래스 수: {model_info['num_classes']}\")\n",
    "print(f\"  - 신뢰도 임계값: {model_info['conf_threshold']}\")"
   ]
  },
  {
   "cell_type": "markdown",
   "metadata": {},
   "source": [
    "## 3. 샘플 이미지 다운로드\n",
    "\n",
    "COCO 데이터셋 샘플 이미지를 다운로드합니다."
   ]
  },
  {
   "cell_type": "code",
   "execution_count": null,
   "metadata": {},
   "outputs": [],
   "source": [
    "import urllib.request\n",
    "\n",
    "# 샘플 이미지 URL (COCO 데이터셋)\n",
    "sample_urls = [\n",
    "    \"https://raw.githubusercontent.com/ultralytics/yolov5/master/data/images/bus.jpg\",\n",
    "    \"https://raw.githubusercontent.com/ultralytics/yolov5/master/data/images/zidane.jpg\",\n",
    "]\n",
    "\n",
    "# 샘플 디렉토리 생성\n",
    "sample_dir = project_root / \"data\" / \"samples\"\n",
    "sample_dir.mkdir(parents=True, exist_ok=True)\n",
    "\n",
    "# 이미지 다운로드\n",
    "sample_paths = []\n",
    "for url in sample_urls:\n",
    "    filename = sample_dir / Path(url).name\n",
    "    if not filename.exists():\n",
    "        print(f\"다운로드 중: {url}\")\n",
    "        urllib.request.urlretrieve(url, filename)\n",
    "    sample_paths.append(filename)\n",
    "    print(f\"저장됨: {filename}\")\n",
    "\n",
    "print(f\"\\n총 {len(sample_paths)}개 이미지 준비 완료\")"
   ]
  },
  {
   "cell_type": "markdown",
   "metadata": {},
   "source": [
    "## 4. 단일 이미지 탐지"
   ]
  },
  {
   "cell_type": "code",
   "execution_count": null,
   "metadata": {},
   "outputs": [],
   "source": [
    "# 데이터 로더 초기화\n",
    "data_loader = DataLoader(use_cv2=True)\n",
    "\n",
    "# 이미지 로딩\n",
    "image_path = sample_paths[0]\n",
    "image = data_loader.load_image(image_path)\n",
    "\n",
    "# 이미지 정보\n",
    "image_info = data_loader.get_image_info(image)\n",
    "print(f\"이미지 정보:\")\n",
    "print(f\"  - 경로: {image_path.name}\")\n",
    "print(f\"  - 크기: {image_info['width']}x{image_info['height']}\")\n",
    "print(f\"  - 채널: {image_info['channels']}\")"
   ]
  },
  {
   "cell_type": "code",
   "execution_count": null,
   "metadata": {},
   "outputs": [],
   "source": [
    "# 객체 탐지 수행\n",
    "print(\"\\n객체 탐지 수행 중...\")\n",
    "detections = detector.predict(image, verbose=True)\n",
    "\n",
    "print(f\"\\n탐지된 객체 수: {len(detections)}\")\n",
    "print(\"\\n탐지 결과:\")\n",
    "for i, det in enumerate(detections, 1):\n",
    "    print(f\"{i}. {det}\")"
   ]
  },
  {
   "cell_type": "markdown",
   "metadata": {},
   "source": [
    "## 5. 결과 시각화"
   ]
  },
  {
   "cell_type": "code",
   "execution_count": null,
   "metadata": {},
   "outputs": [],
   "source": [
    "# 시각화 도구 초기화\n",
    "visualizer = Visualizer(\n",
    "    line_thickness=2,\n",
    "    font_scale=0.5,\n",
    "    hide_labels=False,\n",
    "    hide_conf=False,\n",
    ")\n",
    "\n",
    "# 탐지 결과 시각화\n",
    "visualizer.show(\n",
    "    image,\n",
    "    detections,\n",
    "    figsize=(12, 8),\n",
    "    title=f\"Detection Results: {image_path.name}\",\n",
    ")"
   ]
  },
  {
   "cell_type": "code",
   "execution_count": null,
   "metadata": {},
   "outputs": [],
   "source": [
    "# 탐지 결과 요약 출력\n",
    "visualizer.print_detection_summary(detections)"
   ]
  },
  {
   "cell_type": "markdown",
   "metadata": {},
   "source": [
    "## 6. 결과 저장"
   ]
  },
  {
   "cell_type": "code",
   "execution_count": null,
   "metadata": {},
   "outputs": [],
   "source": [
    "# 결과 저장 도구 초기화\n",
    "exporter = ResultExporter(output_dir=project_root / \"data\" / \"results\")\n",
    "\n",
    "# 탐지 결과가 그려진 이미지 생성\n",
    "annotated_image = visualizer.draw_detections(image, detections)\n",
    "\n",
    "# 이미지 저장\n",
    "image_output_path = exporter.save_image(\n",
    "    annotated_image,\n",
    "    filename=f\"detected_{image_path.name}\",\n",
    ")\n",
    "\n",
    "# JSON 저장\n",
    "json_output_path = exporter.save_detections_json(\n",
    "    detections,\n",
    "    filename=f\"detections_{image_path.stem}.json\",\n",
    "    metadata={\n",
    "        \"source_image\": str(image_path),\n",
    "        \"model\": config.model_name,\n",
    "        \"conf_threshold\": config.conf_threshold,\n",
    "    },\n",
    ")\n",
    "\n",
    "print(f\"\\n결과 저장 완료:\")\n",
    "print(f\"  - 이미지: {image_output_path}\")\n",
    "print(f\"  - JSON: {json_output_path}\")"
   ]
  },
  {
   "cell_type": "markdown",
   "metadata": {},
   "source": [
    "## 추가 실험: 배치 처리\n",
    "\n",
    "여러 이미지를 한 번에 처리합니다."
   ]
  },
  {
   "cell_type": "code",
   "execution_count": null,
   "metadata": {},
   "outputs": [],
   "source": [
    "# 모든 샘플 이미지 로딩\n",
    "images = data_loader.load_batch(sample_paths)\n",
    "print(f\"로딩된 이미지: {len(images)}개\")\n",
    "\n",
    "# 배치 탐지\n",
    "print(\"\\n배치 탐지 수행 중...\")\n",
    "batch_detections = detector.predict_batch(images, verbose=False)\n",
    "\n",
    "# 결과 요약\n",
    "total_objects = sum(len(dets) for dets in batch_detections)\n",
    "print(f\"\\n총 탐지된 객체 수: {total_objects}\")\n",
    "for i, (path, dets) in enumerate(zip(sample_paths, batch_detections), 1):\n",
    "    print(f\"{i}. {path.name}: {len(dets)}개 객체\")"
   ]
  },
  {
   "cell_type": "code",
   "execution_count": null,
   "metadata": {},
   "outputs": [],
   "source": [
    "# 배치 결과 시각화 (비교)\n",
    "annotated_images = [\n",
    "    visualizer.draw_detections(img, dets)\n",
    "    for img, dets in zip(images, batch_detections)\n",
    "]\n",
    "\n",
    "titles = [f\"{path.name}\\n{len(dets)} objects\" for path, dets in zip(sample_paths, batch_detections)]\n",
    "\n",
    "fig = visualizer.create_comparison(\n",
    "    annotated_images,\n",
    "    batch_detections,\n",
    "    titles=titles,\n",
    "    figsize=(15, 5),\n",
    ")\n",
    "plt.show()"
   ]
  },
  {
   "cell_type": "code",
   "execution_count": null,
   "metadata": {},
   "outputs": [],
   "source": [
    "# 배치 결과 저장\n",
    "batch_results = exporter.save_batch_results(\n",
    "    annotated_images,\n",
    "    batch_detections,\n",
    "    image_names=[p.name for p in sample_paths],\n",
    "    save_images=True,\n",
    "    save_json=True,\n",
    ")\n",
    "\n",
    "print(f\"\\n배치 결과 저장 완료:\")\n",
    "print(f\"  - 저장된 이미지: {len(batch_results['images'])}개\")\n",
    "print(f\"  - 저장된 JSON: {len(batch_results['json'])}개\")\n",
    "print(f\"  - 총 탐지 객체: {batch_results['summary']['total_detections']}개\")"
   ]
  },
  {
   "cell_type": "code",
   "execution_count": null,
   "metadata": {},
   "outputs": [],
   "source": [
    "# 요약 보고서 생성\n",
    "report_path = exporter.create_summary_report(\n",
    "    batch_detections,\n",
    "    filename=\"detection_summary.txt\",\n",
    ")\n",
    "\n",
    "print(f\"\\n요약 보고서: {report_path}\")\n",
    "\n",
    "# 보고서 내용 출력\n",
    "with open(report_path, \"r\", encoding=\"utf-8\") as f:\n",
    "    print(f.read())"
   ]
  },
  {
   "cell_type": "markdown",
   "metadata": {},
   "source": [
    "## 결론\n",
    "\n",
    "이 노트북에서 다룬 내용:\n",
    "1. ✅ YOLO 모델 초기화 및 설정\n",
    "2. ✅ 단일 이미지 객체 탐지\n",
    "3. ✅ 탐지 결과 시각화\n",
    "4. ✅ 결과 저장 (이미지, JSON)\n",
    "5. ✅ 배치 처리 및 비교 시각화\n",
    "6. ✅ 요약 보고서 생성\n",
    "\n",
    "### 다음 단계\n",
    "- 02_batch_processing.ipynb: 대량 이미지 처리\n",
    "- 03_performance_analysis.ipynb: 모델 성능 분석 및 최적화"
   ]
  }
 ],
 "metadata": {
  "kernelspec": {
   "display_name": "Python 3",
   "language": "python",
   "name": "python3"
  },
  "language_info": {
   "codemirror_mode": {
    "name": "ipython",
    "version": 3
   },
   "file_extension": ".py",
   "mimetype": "text/x-python",
   "name": "python",
   "nbconvert_exporter": "python",
   "pygments_lexer": "ipython3",
   "version": "3.8.0"
  }
 },
 "nbformat": 4,
 "nbformat_minor": 4
}
